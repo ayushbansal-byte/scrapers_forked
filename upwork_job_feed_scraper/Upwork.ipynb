{
 "cells": [
  {
   "cell_type": "code",
   "execution_count": 30,
   "metadata": {},
   "outputs": [],
   "source": [
    "\n",
    "from time import sleep\n",
    "from selenium.webdriver.common.keys import Keys\n",
    "from selenium.common.exceptions import NoSuchElementException\n",
    "from selenium import webdriver\n",
    "import pandas as pd\n",
    "import datetime\n"
   ]
  },
  {
   "cell_type": "code",
   "execution_count": 31,
   "metadata": {},
   "outputs": [],
   "source": [
    "from selenium.webdriver.chrome.options import Options\n",
    "\n",
    "chrome_options = Options()\n",
    "chrome_options.add_argument(\"--headless\")"
   ]
  },
  {
   "cell_type": "code",
   "execution_count": 32,
   "metadata": {},
   "outputs": [
    {
     "name": "stdout",
     "output_type": "stream",
     "text": [
      "Search job nojobpage\n"
     ]
    }
   ],
   "source": [
    "job = input(\"Search job \")\n",
    "\n"
   ]
  },
  {
   "cell_type": "code",
   "execution_count": 44,
   "metadata": {},
   "outputs": [],
   "source": [
    "def scrap (keyword):\n",
    "    recall=True\n",
    "    \n",
    "    jobkey=keyword.strip()\n",
    "    jobkey=jobkey.replace(\" \", \"%20\")\n",
    "    link=\"https://www.upwork.com/search/jobs/?q=\"+jobkey+\"&sort=recency\"\n",
    "    driver = webdriver.Chrome()\n",
    "    driver.maximize_window()\n",
    "    driver.get(link)\n",
    "    sleep(2)\n",
    "\n",
    "    Title=[]\n",
    "    Payment_type=[]\n",
    "    TimePosted=[]\n",
    "    Detail_1=[]\n",
    "    Detail_2=[]\n",
    "    Detail_3=[]\n",
    "    Description=[]\n",
    "    Tags=[]\n",
    "    JobLinks=[]\n",
    "    try:\n",
    "        #check if jobs avilable?\n",
    "        jobs=driver.find_elements_by_class_name(\"air-card.air-card-hover.job-tile-responsive.ng-scope\")\n",
    "        if len(jobs)==0:\n",
    "            recall=False\n",
    "            raise Exception\n",
    "        try:\n",
    "            #click the bottom drop down to show latest 50 posts\n",
    "            post50DropDown=driver.find_elements_by_class_name(\"btn.btn-default.dropdown-toggle\")\n",
    "            post50DropDown[2].click()\n",
    "            dropdownselect50posts=driver.find_elements_by_class_name(\"eo-dropdown-menu\")\n",
    "            dropdownselect50posts=dropdownselect50posts[2]\n",
    "            dropdownselect50posts = dropdownselect50posts.find_elements_by_xpath('li[@class=\"ng-scope\"]')\n",
    "            dropdownselect50posts[2].click()\n",
    "            sleep(2)\n",
    "        except:\n",
    "            print(\"no drpdown\")\n",
    "        jobs=driver.find_elements_by_class_name(\"air-card.air-card-hover.job-tile-responsive.ng-scope\")\n",
    "        for job in jobs:\n",
    "            try:\n",
    "                head=job.find_elements_by_class_name(\"job-title.m-xs-top-bottom.p-sm-right\")\n",
    "                head1=head[0].text\n",
    "                \n",
    "                \n",
    "            except:\n",
    "                head1=\"\"\n",
    "\n",
    "                \n",
    "                \n",
    "            try:\n",
    "                head=job.find_elements_by_class_name(\"job-title.m-xs-top-bottom.p-sm-right\")\n",
    "                user= head[0].find_element_by_xpath('.//a')\n",
    "                joblink = user.get_attribute('href')\n",
    "                \n",
    "                \n",
    "                \n",
    "            except:\n",
    "                joblink=\"\"\n",
    "                \n",
    "                \n",
    "            try:\n",
    "                subhead=job.find_elements_by_class_name(\"d-inline-block.m-sm-right\")\n",
    "                subhead=subhead[0].find_elements_by_class_name('js-type.text-muted')\n",
    "                subhead1=subhead[0].text\n",
    "                \n",
    "            except:\n",
    "                subhead1=\"\"\n",
    "                \n",
    "                \n",
    "            try:\n",
    "                subhead=job.find_elements_by_class_name(\"d-inline-block.m-sm-right\")\n",
    "                time=subhead[0].find_elements_by_class_name('ng-isolate-scope')\n",
    "\n",
    "                time=time[0].text\n",
    "\n",
    "\n",
    "                \n",
    "                \n",
    "            except:\n",
    "                time=\"\"\n",
    "                \n",
    "                \n",
    "            try:\n",
    "                tabsrow=job.find_elements_by_class_name('row.m-md-top')\n",
    "                tabs=tabsrow[0].find_elements_by_class_name('col-xs-6.col-sm-3.col-md-3.m-md-bottom')\n",
    "\n",
    "                tab1=tabs[0]\n",
    "\n",
    "                tab1_1= tab1.find_element_by_xpath('.//strong').text\n",
    "                tab1_2= tab1.find_element_by_xpath('.//small').text\n",
    "                tab11=tab1_1+'-->'+tab1_2\n",
    "                \n",
    "\n",
    "                \n",
    "                \n",
    "            except:\n",
    "                tab11=\"\"\n",
    "                \n",
    "                \n",
    "                \n",
    "            try:\n",
    "                tab2=tabs[1]\n",
    "\n",
    "                tab2_1= tab2.find_element_by_xpath('.//strong').text\n",
    "                tab2_2= tab2.find_element_by_xpath('.//small').text\n",
    "                tab22=tab2_1+'-->'+tab2_2\n",
    "                \n",
    "\n",
    "                \n",
    "                \n",
    "            except:\n",
    "                tab22=\"\"\n",
    "            try:\n",
    "                tab3=tabs[2]\n",
    "                tab3_1= tab3.find_element_by_xpath('.//strong').text\n",
    "                tab3_2= tab3.find_element_by_xpath('.//small').text\n",
    "                tab33=tab3_1+'-->'+tab3_2\n",
    "            except:\n",
    "                tab33=''\n",
    "                \n",
    "            try:\n",
    "                des= job.find_element_by_xpath('.//div[2]/div[2]').text\n",
    "                des=des.replace(\"\\n\",\" .... \")\n",
    "            except:\n",
    "                des=\"\"\n",
    "            try:\n",
    "                tags= job.find_element_by_xpath('.//div[3]/div[1]').text\n",
    "                tags=tags.replace(\"\\n\",\" + \")\n",
    "            except:\n",
    "                tags=\"\"\n",
    "                \n",
    "            Title.append(head1)\n",
    "            Payment_type.append(subhead1)\n",
    "            TimePosted.append(time)\n",
    "            Detail_1.append(tab11)\n",
    "            Detail_2.append(tab22)\n",
    "            Detail_3.append(tab33)\n",
    "            Description.append(des)\n",
    "            Tags.append(tags)\n",
    "            JobLinks.append(joblink)\n",
    "\n",
    "\n",
    "\n",
    "                \n",
    "            \n",
    "                \n",
    "            \n",
    "            \n",
    "            \n",
    "        \n",
    "    except:\n",
    "        \n",
    "        print(\"no job avilable\")\n",
    "    \n",
    "    Pt=[Title,Payment_type,TimePosted,Detail_1,Detail_2,Detail_3,Description,Tags,JobLinks]\n",
    "    df = pd.DataFrame (Pt).transpose()\n",
    "    df.columns = ['Title','Payment_type','TimePosted','Detail_1','Detail_2','Detail_3','Description','Tags','JobLinks']\n",
    "    driver.close()\n",
    "    x = datetime.datetime.now()\n",
    "    \n",
    "    n=x.strftime(\"%d-%b-%Y--%I-%M-%p\")\n",
    "    file_name=keyword\n",
    "    if keyword==\"\":\n",
    "        file_name='Empty'\n",
    "    df.to_csv(file_name+'-'+n+\".csv\")\n",
    "    sleep(60)\n",
    "    if recall==True:\n",
    "        scrap(keyword)\n",
    "\n",
    "\n",
    "\n",
    "    \n",
    "    \n",
    "    \n",
    "    "
   ]
  },
  {
   "cell_type": "code",
   "execution_count": null,
   "metadata": {},
   "outputs": [
    {
     "name": "stdout",
     "output_type": "stream",
     "text": [
      "no job avilable\n"
     ]
    }
   ],
   "source": [
    "scrap(job)"
   ]
  },
  {
   "cell_type": "code",
   "execution_count": 8,
   "metadata": {},
   "outputs": [
    {
     "data": {
      "text/plain": [
       "str"
      ]
     },
     "execution_count": 8,
     "metadata": {},
     "output_type": "execute_result"
    }
   ],
   "source": [
    "\n",
    "\n"
   ]
  },
  {
   "cell_type": "code",
   "execution_count": null,
   "metadata": {},
   "outputs": [],
   "source": []
  }
 ],
 "metadata": {
  "kernelspec": {
   "display_name": "Python 3",
   "language": "python",
   "name": "python3"
  },
  "language_info": {
   "codemirror_mode": {
    "name": "ipython",
    "version": 3
   },
   "file_extension": ".py",
   "mimetype": "text/x-python",
   "name": "python",
   "nbconvert_exporter": "python",
   "pygments_lexer": "ipython3",
   "version": "3.7.6"
  }
 },
 "nbformat": 4,
 "nbformat_minor": 4
}
